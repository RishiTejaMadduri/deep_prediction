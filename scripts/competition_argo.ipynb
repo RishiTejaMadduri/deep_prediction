{
 "cells": [
  {
   "cell_type": "code",
   "execution_count": 1,
   "metadata": {},
   "outputs": [],
   "source": [
    "import argparse\n",
    "import gc\n",
    "import logging\n",
    "import os\n",
    "import sys\n",
    "import time\n",
    "\n",
    "from collections import defaultdict\n",
    "\n",
    "import torch\n",
    "import torch.nn as nn\n",
    "import torch.optim as optim\n",
    "\n",
    "from sgan.data.loader import data_loader\n",
    "from sgan.losses_argo import gan_g_loss, gan_d_loss, l2_loss\n",
    "from sgan.losses_argo import displacement_error, final_displacement_error\n",
    "\n",
    "from sgan.models_argo import TrajectoryGenerator, TrajectoryDiscriminator\n",
    "from sgan.utils import int_tuple, bool_flag, get_total_norm\n",
    "from sgan.utils import relative_to_abs, get_dset_path\n",
    "\n",
    "from sgan.data.data import Argoverse_Social_Data, collate_traj_social\n",
    "from torch.utils.data import Dataset, DataLoader\n",
    "from torch.utils.tensorboard import SummaryWriter\n",
    "\n",
    "import numpy as np\n",
    "torch.backends.cudnn.benchmark = True\n",
    "\n",
    "from matplotlib import pyplot as plt\n",
    "\n",
    "from matplotlib import pyplot as plt\n",
    "from argoverse.map_representation.map_api import ArgoverseMap\n",
    "from argoverse.data_loading.argoverse_forecasting_loader import ArgoverseForecastingLoader\n",
    "from argoverse.visualization.visualize_sequences import viz_sequence\n",
    "avm = ArgoverseMap()"
   ]
  },
  {
   "cell_type": "code",
   "execution_count": 2,
   "metadata": {},
   "outputs": [],
   "source": [
    "def init_weights(m):\n",
    "    classname = m.__class__.__name__\n",
    "    if classname.find('Linear') != -1:\n",
    "        nn.init.kaiming_normal_(m.weight)\n",
    "        \n",
    "def get_dtypes(use_gpu=True):\n",
    "    long_dtype = torch.LongTensor\n",
    "    float_dtype = torch.FloatTensor\n",
    "    if use_gpu == 1:\n",
    "        long_dtype = torch.cuda.LongTensor\n",
    "        float_dtype = torch.cuda.FloatTensor\n",
    "    return long_dtype, float_dtype        "
   ]
  },
  {
   "cell_type": "code",
   "execution_count": 3,
   "metadata": {},
   "outputs": [],
   "source": [
    "def relativeToAbsolute(traj, R, t):    \n",
    "    seq_len = traj.shape[0] \n",
    "    traj = np.reshape(traj, (-1, 2))\n",
    "    \n",
    "    traj = np.swapaxes(traj, 1, 0)\n",
    "    traj = np.matmul(R.T,traj)\n",
    "    traj = np.swapaxes(traj, 1, 0)\n",
    "    traj = traj + t\n",
    "    traj = np.reshape(traj, (seq_len, -1, 2))\n",
    "    return traj"
   ]
  },
  {
   "cell_type": "code",
   "execution_count": 4,
   "metadata": {},
   "outputs": [],
   "source": [
    "os.environ[\"CUDA_VISIBLE_DEVICES\"] = '0'\n",
    "long_dtype, float_dtype = get_dtypes()\n",
    "\n",
    "argoverse_val   = Argoverse_Social_Data('../../deep_prediction/data/val/data')\n",
    "argoverse_test  = Argoverse_Social_Data('../../deep_prediction/data/test_obs/data')\n",
    "# argoverse_forecasting_loader = ArgoverseForecastingLoader('../../deep_prediction/data/test_obs/data') #simply change to your local path of the data\n",
    "sample_data  = Argoverse_Social_Data('../forecasting_sample/data')"
   ]
  },
  {
   "cell_type": "code",
   "execution_count": 5,
   "metadata": {},
   "outputs": [],
   "source": [
    "# for i in range(1000):\n",
    "#     if argoverse_forecasting_loader[i].agent_traj.shape[0]!=20:\n",
    "#         print('Not 20')"
   ]
  },
  {
   "cell_type": "code",
   "execution_count": 6,
   "metadata": {},
   "outputs": [],
   "source": [
    "test_size=len(argoverse_test)\n",
    "# for i in range(1000):\n",
    "#     if argoverse_test[i][\"train_agent\"].shape[0]!=20:\n",
    "#         print('Not 20')"
   ]
  },
  {
   "cell_type": "code",
   "execution_count": 7,
   "metadata": {},
   "outputs": [],
   "source": [
    "batch_size = 32\n",
    "val_loader = DataLoader(argoverse_val, batch_size=batch_size,\n",
    "                    shuffle=False, num_workers=2,collate_fn=collate_traj_social)\n",
    "sample_loader = DataLoader(sample_data, batch_size=batch_size,\n",
    "                shuffle=True, num_workers=2,collate_fn=collate_traj_social)\n",
    "\n",
    "test_loader = DataLoader(argoverse_test, batch_size=1,\n",
    "                shuffle=False, num_workers=2,collate_fn=collate_traj_social)"
   ]
  },
  {
   "cell_type": "code",
   "execution_count": null,
   "metadata": {},
   "outputs": [],
   "source": []
  },
  {
   "cell_type": "code",
   "execution_count": 8,
   "metadata": {},
   "outputs": [
    {
     "data": {
      "text/plain": [
       "TrajectoryGenerator(\n",
       "  (encoder): Encoder(\n",
       "    (encoder): LSTM(16, 32)\n",
       "    (spatial_embedding): Linear(in_features=2, out_features=16, bias=True)\n",
       "  )\n",
       "  (decoder): Decoder(\n",
       "    (decoder): LSTM(16, 32)\n",
       "    (spatial_embedding): Linear(in_features=2, out_features=16, bias=True)\n",
       "    (hidden2pos): Linear(in_features=32, out_features=2, bias=True)\n",
       "  )\n",
       "  (pool_net): PoolHiddenNet(\n",
       "    (spatial_embedding): Linear(in_features=2, out_features=16, bias=True)\n",
       "    (mlp_pre_pool): Sequential(\n",
       "      (0): Linear(in_features=48, out_features=512, bias=True)\n",
       "      (1): ReLU()\n",
       "      (2): Linear(in_features=512, out_features=32, bias=True)\n",
       "      (3): ReLU()\n",
       "    )\n",
       "  )\n",
       "  (mlp_decoder_context): Sequential(\n",
       "    (0): Linear(in_features=64, out_features=64, bias=True)\n",
       "    (1): ReLU()\n",
       "    (2): Linear(in_features=64, out_features=24, bias=True)\n",
       "    (3): ReLU()\n",
       "  )\n",
       ")"
      ]
     },
     "execution_count": 8,
     "metadata": {},
     "output_type": "execute_result"
    }
   ],
   "source": [
    "generator = TrajectoryGenerator(\n",
    "    obs_len=20,\n",
    "    pred_len=30,\n",
    "    embedding_dim=16,\n",
    "    encoder_h_dim=32,\n",
    "    decoder_h_dim=32,\n",
    "    mlp_dim=64,\n",
    "    num_layers=1,\n",
    "    noise_dim=(8, ),\n",
    "    noise_type='gaussian',\n",
    "    noise_mix_type='global',\n",
    "    pooling_type='pool_net',\n",
    "    pool_every_timestep=0,\n",
    "    dropout=0,\n",
    "    bottleneck_dim=32,\n",
    "    neighborhood_size=2.0,\n",
    "    grid_size=8,\n",
    "    batch_norm=False)\n",
    "\n",
    "generator.apply(init_weights)\n",
    "generator.type(float_dtype).train()"
   ]
  },
  {
   "cell_type": "code",
   "execution_count": 9,
   "metadata": {},
   "outputs": [
    {
     "data": {
      "text/plain": [
       "<All keys matched successfully>"
      ]
     },
     "execution_count": 9,
     "metadata": {},
     "output_type": "execute_result"
    }
   ],
   "source": [
    "output_dir = '../saved_model/07-05-2020::19:37:23/'\n",
    "checkpoint_name = 'gan_test'\n",
    "restore_path = os.path.join(output_dir,'%s_with_model.pt' % checkpoint_name)\n",
    "\n",
    "checkpoint = torch.load(restore_path)\n",
    "generator.load_state_dict(checkpoint['g_state'])"
   ]
  },
  {
   "cell_type": "code",
   "execution_count": 10,
   "metadata": {},
   "outputs": [],
   "source": [
    "def poly_fit(traj, traj_len=30, threshold=0.002):\n",
    "    \"\"\"\n",
    "    Input:\n",
    "    - traj: Numpy array of shape (2, traj_len)\n",
    "    - traj_len: Len of trajectory\n",
    "    - threshold: Minimum error to be considered for non linear traj\n",
    "    Output:\n",
    "    - int: 1 -> Non Linear 0-> Linear\n",
    "    \"\"\"\n",
    "    t = np.linspace(0, traj_len - 1, traj_len)\n",
    "    res_x = np.polyfit(t, traj[:, 0], 2, full=True)[1]\n",
    "    res_y = np.polyfit(t, traj[:, 1], 2, full=True)[1]\n",
    "    \n",
    "    if res_x + res_y >= threshold:\n",
    "        return 1.0\n",
    "    else:\n",
    "        return 0.0"
   ]
  },
  {
   "cell_type": "code",
   "execution_count": 11,
   "metadata": {},
   "outputs": [],
   "source": [
    "def predict_single_traj(train_agent, neighbour, av, seq_path, seq_id, Rs, ts):\n",
    "\n",
    "    obs_traj = train_agent[0].unsqueeze(0)\n",
    "    obs_traj = torch.cat((obs_traj, av[0].unsqueeze(0)),0)\n",
    "    obs_traj = torch.cat((obs_traj, neighbour[0]),0)    \n",
    "    \n",
    "    ped_count = obs_traj.shape[0]\n",
    "    seq_start_end = [[0, ped_count]] # last number excluded\n",
    "    \n",
    "    for i in range(1, len(neighbour)):\n",
    "        obs_traj = torch.cat((obs_traj, train_agent[i].unsqueeze(0)), 0)\n",
    "        obs_traj = torch.cat((obs_traj, av[i].unsqueeze(0)),0)\n",
    "        obs_traj = torch.cat((obs_traj, neighbour[i]), 0) \n",
    "        \n",
    "        seq_start_end.append([ped_count, obs_traj.shape[0]])\n",
    "\n",
    "        num_peds_considered = obs_traj.shape[0] - ped_count\n",
    "        ped_count = obs_traj.shape[0]\n",
    "\n",
    "    obs_traj_rel = torch.zeros(obs_traj.shape)\n",
    "    obs_traj_rel[:,1:,:] = obs_traj[:,1:,:] -  obs_traj[:,:-1,:]    \n",
    "    seq_start_end = torch.tensor(seq_start_end)\n",
    "\n",
    "    obs_traj = obs_traj.transpose_(0,1).cuda() \n",
    "    obs_traj_rel = obs_traj_rel.transpose_(0,1).cuda() \n",
    "    \n",
    "    pred_traj_fake_rel = generator(obs_traj, obs_traj_rel, seq_start_end)\n",
    "    pred_traj_fake = relative_to_abs(pred_traj_fake_rel, obs_traj[-1])\n",
    "        \n",
    "    pred_traj = torch.cat((obs_traj, pred_traj_fake), 0 )\n",
    "    pred_traj = pred_traj.cpu().detach().numpy()\n",
    "    \n",
    "    pred_agv_traj = np.swapaxes(pred_traj,0,1)[0]\n",
    "    \n",
    "        \n",
    "    return pred_agv_traj"
   ]
  },
  {
   "cell_type": "code",
   "execution_count": 12,
   "metadata": {
    "scrolled": true
   },
   "outputs": [],
   "source": [
    "# dataiter = iter(test_loader)\n",
    "# output_all = {}\n",
    "# counter = 0\n",
    "# batch = dataiter.next()\n",
    "\n",
    "# train_agent = batch['train_agent']\n",
    "# neighbour = batch['neighbour']\n",
    "# av = batch['av']\n",
    "# seq_path = batch['seq_path']\n",
    "# seq_id = batch['indexes']\n",
    "# Rs = batch['rotation']\n",
    "# ts = batch['translation']\n",
    "\n",
    "# predict_traj = predict_single_traj(train_agent, neighbour, av, seq_path, seq_id, Rs, ts)\n",
    "\n",
    "# print(predict_traj.shape)\n"
   ]
  },
  {
   "cell_type": "code",
   "execution_count": 13,
   "metadata": {},
   "outputs": [],
   "source": [
    "# ax = plt.gca()\n",
    "# plt.plot(predict_traj[0,0],predict_traj[0,1],'-o',c='r') #starting point here\n",
    "# plt.plot(predict_traj[:21,0],predict_traj[:21,1],'-',c='b')\n",
    "# plt.plot(predict_traj[20:,0],predict_traj[20:,1],'-',c='r')\n",
    "\n",
    "# plt.xlabel('map_x_coord (m)')\n",
    "# plt.ylabel('map_y_coord (m)')\n",
    "# ax.set_aspect('equal')\n",
    "# plt.show()"
   ]
  },
  {
   "cell_type": "code",
   "execution_count": 14,
   "metadata": {},
   "outputs": [],
   "source": [
    "# predict_traj = get_multiple_forecasts()"
   ]
  },
  {
   "cell_type": "code",
   "execution_count": 15,
   "metadata": {},
   "outputs": [],
   "source": [
    "# ax = plt.gca()\n",
    "\n",
    "# plt.plot(predict_traj[0,0,0],predict_traj[0,0,1],'-o',c='r') #starting point here\n",
    "# plt.plot(predict_traj[0,:21,0],predict_traj[0,:21,1],'-',c='b')\n",
    "\n",
    "# for i in range(len(predict_traj)):\n",
    "#     plt.plot(predict_traj[i,20:,0],predict_traj[i,20:,1],'-',c=np.random.rand(3,))\n",
    "# plt.xlabel('map_x_coord (m)')\n",
    "# plt.ylabel('map_y_coord (m)')\n",
    "# ax.set_aspect('equal')\n",
    "# plt.show()"
   ]
  },
  {
   "cell_type": "code",
   "execution_count": 16,
   "metadata": {},
   "outputs": [],
   "source": [
    "# def get_multiple_forecasts():\n",
    "    \n",
    "#     batch = dataiter.next()\n",
    "#     print(batch)\n",
    "#     train_agent = batch['train_agent']\n",
    "#     neighbour = batch['neighbour']\n",
    "#     av = batch['av']\n",
    "#     seq_path = batch['seq_path']\n",
    "#     seq_id = batch['indexes']\n",
    "#     Rs = batch['rotation']\n",
    "#     ts = batch['translation']\n",
    "\n",
    "#     predict_traj = []\n",
    "#     for i in range(9,3,-1):\n",
    "#         predict_traj.append(predict_single_traj(train_agent, neighbour, av, seq_path, seq_id, Rs, ts))\n",
    "                \n",
    "#     return int(seq_id[0]), np.array(predict_traj)"
   ]
  },
  {
   "cell_type": "code",
   "execution_count": null,
   "metadata": {
    "scrolled": true
   },
   "outputs": [
    {
     "name": "stdout",
     "output_type": "stream",
     "text": [
      "[0]\n",
      "[1]\n",
      "[2]\n",
      "[3]\n",
      "[4]\n",
      "[5]\n",
      "[6]\n",
      "[7]\n",
      "[8]\n",
      "[9]\n",
      "[10]\n",
      "[11]\n",
      "[12]\n",
      "[13]\n",
      "[14]\n",
      "[15]\n",
      "[16]\n",
      "[17]\n",
      "[18]\n",
      "[19]\n",
      "[20]\n",
      "[21]\n",
      "[22]\n",
      "[23]\n",
      "[24]\n",
      "[25]\n",
      "[26]\n",
      "[27]\n",
      "[28]\n",
      "[29]\n",
      "[30]\n",
      "[31]\n",
      "[32]\n",
      "[33]\n",
      "[34]\n",
      "[35]\n",
      "[36]\n",
      "[37]\n",
      "[38]\n",
      "[39]\n",
      "[40]\n",
      "[41]\n",
      "[42]\n",
      "[43]\n",
      "[44]\n",
      "[45]\n",
      "[46]\n",
      "[47]\n",
      "[48]\n",
      "[49]\n",
      "[50]\n",
      "[51]\n",
      "[52]\n",
      "[53]\n",
      "[54]\n",
      "[55]\n",
      "[56]\n",
      "[57]\n",
      "[58]\n",
      "[59]\n",
      "[60]\n",
      "[61]\n",
      "[62]\n",
      "[63]\n",
      "[64]\n",
      "[65]\n",
      "[66]\n",
      "[67]\n",
      "[68]\n",
      "[69]\n",
      "[70]\n",
      "[71]\n",
      "[72]\n",
      "[73]\n",
      "[74]\n",
      "[75]\n",
      "[76]\n",
      "[77]\n",
      "[78]\n",
      "[79]\n",
      "[80]\n",
      "[81]\n",
      "[82]\n",
      "[83]\n",
      "[84]\n",
      "[85]\n",
      "[86]\n",
      "[87]\n",
      "[88]\n",
      "[89]\n",
      "[90]\n",
      "[91]\n",
      "[92]\n",
      "[93]\n",
      "[94]\n",
      "[95]\n",
      "[96]\n",
      "[97]\n",
      "[98]\n",
      "[99]\n",
      "[100]\n",
      "[101]\n",
      "[102]\n",
      "[103]\n",
      "[104]\n",
      "[105]\n",
      "[106]\n",
      "[107]\n",
      "[108]\n",
      "[109]\n",
      "[110]\n"
     ]
    }
   ],
   "source": [
    "dataiter = iter(test_loader)\n",
    "output_all = {}\n",
    "counter = 1\n",
    "\n",
    "test_size=len(argoverse_test)\n",
    "\n",
    "\n",
    "for test_i in range (test_size):\n",
    "    batch = dataiter.next()\n",
    "    train_agent = batch['train_agent']\n",
    "    neighbour = batch['neighbour']\n",
    "    av = batch['av']\n",
    "    seq_path = batch['seq_path']\n",
    "    seq_id = batch['indexes']\n",
    "    Rs = batch['rotation']\n",
    "    ts = batch['translation']\n",
    "    \n",
    "    predict_traj = []\n",
    "    for i in range(9,3,-1):\n",
    "        predict_traj.append(predict_single_traj(train_agent, neighbour, av, seq_path, seq_id, Rs, ts))\n",
    "        \n",
    "    predict_traj = np.array(predict_traj)\n",
    "    idx = int(seq_path[0][41:-4])\n",
    "    output_all[idx] = predict_traj[:,20:50,:]\n",
    "    counter += 1\n",
    "    print(seq_id)\n",
    "    \n",
    "#     if counter>1000:\n",
    "#         break\n",
    "    \n",
    "    "
   ]
  },
  {
   "cell_type": "code",
   "execution_count": null,
   "metadata": {},
   "outputs": [],
   "source": []
  },
  {
   "cell_type": "code",
   "execution_count": null,
   "metadata": {},
   "outputs": [],
   "source": [
    "int(seq_path[0][41:-4])"
   ]
  },
  {
   "cell_type": "code",
   "execution_count": null,
   "metadata": {},
   "outputs": [],
   "source": [
    "# from argoverse.evaluation.competition_util import generate_forecasting_h5\n",
    "\n",
    "# len(output_all)\n",
    "\n",
    "# output_path = '../../sgan/scripts/new_eval/'\n",
    "\n",
    "# generate_forecasting_h5(output_all, output_path) #this might take awhile"
   ]
  },
  {
   "cell_type": "code",
   "execution_count": null,
   "metadata": {},
   "outputs": [],
   "source": [
    "key_storage=output_all.keys()"
   ]
  },
  {
   "cell_type": "code",
   "execution_count": null,
   "metadata": {},
   "outputs": [],
   "source": [
    "key_storage=list(key_storage)"
   ]
  },
  {
   "cell_type": "code",
   "execution_count": null,
   "metadata": {},
   "outputs": [],
   "source": [
    "key_storage.sort()"
   ]
  },
  {
   "cell_type": "code",
   "execution_count": null,
   "metadata": {},
   "outputs": [],
   "source": [
    "key_storage[999]"
   ]
  },
  {
   "cell_type": "code",
   "execution_count": null,
   "metadata": {},
   "outputs": [],
   "source": [
    "output_all[80599].shape"
   ]
  }
 ],
 "metadata": {
  "kernelspec": {
   "display_name": "dl",
   "language": "python",
   "name": "dl"
  },
  "language_info": {
   "codemirror_mode": {
    "name": "ipython",
    "version": 3
   },
   "file_extension": ".py",
   "mimetype": "text/x-python",
   "name": "python",
   "nbconvert_exporter": "python",
   "pygments_lexer": "ipython3",
   "version": "3.6.10"
  }
 },
 "nbformat": 4,
 "nbformat_minor": 4
}
