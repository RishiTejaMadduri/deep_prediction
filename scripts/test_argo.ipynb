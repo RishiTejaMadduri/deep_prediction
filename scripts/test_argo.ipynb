{
 "cells": [
  {
   "cell_type": "code",
   "execution_count": 1,
   "metadata": {},
   "outputs": [],
   "source": [
    "import argparse\n",
    "import gc\n",
    "import logging\n",
    "import os\n",
    "import sys\n",
    "import time\n",
    "\n",
    "from collections import defaultdict\n",
    "\n",
    "import torch\n",
    "import torch.nn as nn\n",
    "import torch.optim as optim\n",
    "\n",
    "from sgan.data.loader import data_loader\n",
    "from sgan.losses_argo import gan_g_loss, gan_d_loss, l2_loss\n",
    "from sgan.losses_argo import displacement_error, final_displacement_error\n",
    "\n",
    "from sgan.models_argo import TrajectoryGenerator, TrajectoryDiscriminator\n",
    "from sgan.utils import int_tuple, bool_flag, get_total_norm\n",
    "from sgan.utils import relative_to_abs, get_dset_path\n",
    "\n",
    "from sgan.data.data import Argoverse_Social_Data, collate_traj_social\n",
    "from torch.utils.data import Dataset, DataLoader\n",
    "from torch.utils.tensorboard import SummaryWriter\n",
    "\n",
    "import numpy as np\n",
    "torch.backends.cudnn.benchmark = True\n"
   ]
  },
  {
   "cell_type": "code",
   "execution_count": 2,
   "metadata": {},
   "outputs": [],
   "source": [
    "def init_weights(m):\n",
    "    classname = m.__class__.__name__\n",
    "    if classname.find('Linear') != -1:\n",
    "        nn.init.kaiming_normal_(m.weight)\n",
    "        \n",
    "def get_dtypes(use_gpu=True):\n",
    "    long_dtype = torch.LongTensor\n",
    "    float_dtype = torch.FloatTensor\n",
    "    if use_gpu == 1:\n",
    "        long_dtype = torch.cuda.LongTensor\n",
    "        float_dtype = torch.cuda.FloatTensor\n",
    "    return long_dtype, float_dtype        "
   ]
  },
  {
   "cell_type": "code",
   "execution_count": 3,
   "metadata": {},
   "outputs": [],
   "source": [
    "os.environ[\"CUDA_VISIBLE_DEVICES\"] = '0'\n",
    "long_dtype, float_dtype = get_dtypes()\n",
    "\n",
    "argoverse_val   = Argoverse_Social_Data('../../deep_prediction/data/val/data')\n",
    "argoverse_test  = Argoverse_Social_Data('../../deep_prediction/data/test_obs/data')"
   ]
  },
  {
   "cell_type": "code",
   "execution_count": 4,
   "metadata": {},
   "outputs": [],
   "source": [
    "batch_size = 32\n",
    "val_loader = DataLoader(argoverse_val, batch_size=batch_size,\n",
    "                    shuffle=True, num_workers=2,collate_fn=collate_traj_social)\n",
    "test_loader = DataLoader(argoverse_test, batch_size=batch_size,\n",
    "                shuffle=True, num_workers=2,collate_fn=collate_traj_social)"
   ]
  },
  {
   "cell_type": "code",
   "execution_count": 5,
   "metadata": {},
   "outputs": [],
   "source": [
    "generator = TrajectoryGenerator(\n",
    "    obs_len=20,\n",
    "    pred_len=30,\n",
    "    embedding_dim=16,\n",
    "    encoder_h_dim=32,\n",
    "    decoder_h_dim=32,\n",
    "    mlp_dim=64,\n",
    "    num_layers=1,\n",
    "    noise_dim=(8, ),\n",
    "    noise_type='gaussian',\n",
    "    noise_mix_type='global',\n",
    "    pooling_type='pool_net',\n",
    "    pool_every_timestep=0,\n",
    "    dropout=0,\n",
    "    bottleneck_dim=32,\n",
    "    neighborhood_size=2.0,\n",
    "    grid_size=8,\n",
    "    batch_norm=False)"
   ]
  },
  {
   "cell_type": "code",
   "execution_count": 6,
   "metadata": {},
   "outputs": [
    {
     "data": {
      "text/plain": [
       "TrajectoryGenerator(\n",
       "  (encoder): Encoder(\n",
       "    (encoder): LSTM(16, 32)\n",
       "    (spatial_embedding): Linear(in_features=2, out_features=16, bias=True)\n",
       "  )\n",
       "  (decoder): Decoder(\n",
       "    (decoder): LSTM(16, 32)\n",
       "    (spatial_embedding): Linear(in_features=2, out_features=16, bias=True)\n",
       "    (hidden2pos): Linear(in_features=32, out_features=2, bias=True)\n",
       "  )\n",
       "  (pool_net): PoolHiddenNet(\n",
       "    (spatial_embedding): Linear(in_features=2, out_features=16, bias=True)\n",
       "    (mlp_pre_pool): Sequential(\n",
       "      (0): Linear(in_features=48, out_features=512, bias=True)\n",
       "      (1): ReLU()\n",
       "      (2): Linear(in_features=512, out_features=32, bias=True)\n",
       "      (3): ReLU()\n",
       "    )\n",
       "  )\n",
       "  (mlp_decoder_context): Sequential(\n",
       "    (0): Linear(in_features=64, out_features=64, bias=True)\n",
       "    (1): ReLU()\n",
       "    (2): Linear(in_features=64, out_features=24, bias=True)\n",
       "    (3): ReLU()\n",
       "  )\n",
       ")"
      ]
     },
     "execution_count": 6,
     "metadata": {},
     "output_type": "execute_result"
    }
   ],
   "source": [
    "generator.apply(init_weights)\n",
    "generator.type(float_dtype).train()"
   ]
  },
  {
   "cell_type": "code",
   "execution_count": 7,
   "metadata": {},
   "outputs": [
    {
     "data": {
      "text/plain": [
       "'/home/sapanagrawal777/sgan/scripts/gan_test_with_model.pt'"
      ]
     },
     "execution_count": 7,
     "metadata": {},
     "output_type": "execute_result"
    }
   ],
   "source": [
    "output_dir = os.getcwd()\n",
    "checkpoint_name = 'gan_test'\n",
    "restore_path = os.path.join(output_dir,'%s_with_model.pt' % checkpoint_name)\n",
    "restore_path"
   ]
  },
  {
   "cell_type": "code",
   "execution_count": 8,
   "metadata": {},
   "outputs": [
    {
     "data": {
      "text/plain": [
       "<All keys matched successfully>"
      ]
     },
     "execution_count": 8,
     "metadata": {},
     "output_type": "execute_result"
    }
   ],
   "source": [
    "checkpoint = torch.load(restore_path)\n",
    "generator.load_state_dict(checkpoint['g_state'])"
   ]
  },
  {
   "cell_type": "code",
   "execution_count": 9,
   "metadata": {},
   "outputs": [],
   "source": [
    "def poly_fit(traj, traj_len=30, threshold=0.002):\n",
    "    \"\"\"\n",
    "    Input:\n",
    "    - traj: Numpy array of shape (2, traj_len)\n",
    "    - traj_len: Len of trajectory\n",
    "    - threshold: Minimum error to be considered for non linear traj\n",
    "    Output:\n",
    "    - int: 1 -> Non Linear 0-> Linear\n",
    "    \"\"\"\n",
    "    t = np.linspace(0, traj_len - 1, traj_len)\n",
    "    res_x = np.polyfit(t, traj[:, 0], 2, full=True)[1]\n",
    "    res_y = np.polyfit(t, traj[:, 1], 2, full=True)[1]\n",
    "    \n",
    "    if res_x + res_y >= threshold:\n",
    "        return 1.0\n",
    "    else:\n",
    "        return 0.0"
   ]
  },
  {
   "cell_type": "code",
   "execution_count": 10,
   "metadata": {},
   "outputs": [],
   "source": [
    "dataiter = iter(val_loader)\n",
    "batch = dataiter.next()\n",
    "\n",
    "train_agent = batch['train_agent']\n",
    "gt_agent = batch['gt_agent']\n",
    "neighbour = batch['neighbour']\n",
    "neighbour_gt = batch['neighbour_gt']\n",
    "seq_path = batch['seq_path']\n",
    "\n",
    "obs_traj = train_agent[0].unsqueeze(0)\n",
    "obs_traj = torch.cat((obs_traj, neighbour[0]),0)\n",
    "\n",
    "pred_traj_gt = gt_agent[0].unsqueeze(0)\n",
    "pred_traj_gt = torch.cat((pred_traj_gt, neighbour_gt[0]),0)\n",
    "\n",
    "ped_count = obs_traj.shape[0]\n",
    "seq_start_end = [[0, ped_count]] # last number excluded\n",
    "\n",
    "non_linear_ped = []\n",
    "_non_linear_ped = [poly_fit(np.array(gt_agent[0]))]\n",
    "\n",
    "for j in range(ped_count-1):\n",
    "    _non_linear_ped.append(poly_fit(np.array(neighbour_gt[0][j])))\n",
    "non_linear_ped += _non_linear_ped\n",
    "\n",
    "for i in range(1, len(neighbour)):\n",
    "    obs_traj = torch.cat((obs_traj, train_agent[i].unsqueeze(0)), 0)\n",
    "    obs_traj = torch.cat((obs_traj, neighbour[i]), 0)\n",
    "\n",
    "    pred_traj_gt = torch.cat((pred_traj_gt, gt_agent[i].unsqueeze(0)), 0)\n",
    "    pred_traj_gt = torch.cat((pred_traj_gt, neighbour_gt[i]), 0)\n",
    "\n",
    "    seq_start_end.append([ped_count, obs_traj.shape[0]])\n",
    "\n",
    "    num_peds_considered = obs_traj.shape[0] - ped_count\n",
    "    ped_count = obs_traj.shape[0]\n",
    "\n",
    "    _non_linear_ped = [poly_fit(np.array(gt_agent[i]))]\n",
    "\n",
    "    for j in range(num_peds_considered-1):\n",
    "        _non_linear_ped.append(poly_fit(np.array(neighbour_gt[i][j])))\n",
    "\n",
    "    non_linear_ped += _non_linear_ped\n",
    "\n",
    "obs_traj_rel = torch.zeros(obs_traj.shape)\n",
    "obs_traj_rel[:,1:,:] = obs_traj[:,1:,:] -  obs_traj[:,:-1,:]    \n",
    "\n",
    "pred_traj_gt_rel = torch.zeros(pred_traj_gt.shape)\n",
    "pred_traj_gt_rel[:,1:,:] = pred_traj_gt[:,1:,:] - pred_traj_gt[:,0:-1,:]\n",
    "\n",
    "seq_start_end = torch.tensor(seq_start_end)\n",
    "non_linear_ped = torch.tensor(non_linear_ped).cuda()\n",
    "\n",
    "## \n",
    "obs_traj = obs_traj.transpose_(0,1).cuda() \n",
    "obs_traj_rel = obs_traj_rel.transpose_(0,1).cuda() \n",
    "pred_traj_gt = pred_traj_gt.transpose_(0,1).cuda() \n",
    "pred_traj_gt_rel = pred_traj_gt_rel.transpose_(0,1).cuda() \n",
    "\n",
    "################################################################\n",
    "\n",
    "linear_ped = 1 - non_linear_ped\n",
    "\n",
    "loss_mask = torch.ones(pred_traj_gt.shape[1],30).cuda()\n",
    "\n",
    "pred_traj_fake_rel = generator(obs_traj, obs_traj_rel, seq_start_end)\n",
    "pred_traj_fake = relative_to_abs(pred_traj_fake_rel, obs_traj[-1])"
   ]
  },
  {
   "cell_type": "code",
   "execution_count": 44,
   "metadata": {},
   "outputs": [
    {
     "data": {
      "image/png": "[encoded data removed]",
      "text/plain": [
       "<Figure size 432x288 with 1 Axes>"
      ]
     },
     "metadata": {
      "needs_background": "light"
     },
     "output_type": "display_data"
    }
   ],
   "source": [
    "from matplotlib import pyplot as plt\n",
    "obs_traj_ = np.array(obs_traj.cpu())\n",
    "pred_traj_gt_ = np.array(pred_traj_gt.cpu())\n",
    "pred_traj_fake_ = pred_traj_fake.cpu().detach().numpy()\n",
    "\n",
    "j = 31\n",
    "\n",
    "i = seq_start_end[j][0]\n",
    "\n",
    "plt.plot(obs_traj_[:,i,0],obs_traj_[:,i,1], label=\"Observed\")\n",
    "plt.plot(pred_traj_gt_[:,i,0],pred_traj_gt_[:,i,1], 'g', label=\"Ground Truth\")\n",
    "plt.plot(pred_traj_fake_[:,i,0],pred_traj_fake_[:,i,1], 'r', label=\"Prediction\")\n",
    "\n",
    "for ped in range(i+1, seq_start_end[j][1]):\n",
    "    plt.plot(obs_traj_[:,ped,0],obs_traj_[:,ped,1], 'k')\n",
    "    \n",
    "plt.legend()\n",
    "plt.show()"
   ]
  },
  {
   "cell_type": "code",
   "execution_count": null,
   "metadata": {},
   "outputs": [],
   "source": [
    "from argoverse.map_representation.map_api import ArgoverseMap\n",
    "from argoverse.data_loading.argoverse_forecasting_loader import ArgoverseForecastingLoader\n",
    "from argoverse.visualization.visualize_sequences import viz_sequence\n",
    "avm = ArgoverseMap()\n",
    "\n",
    "argoverse_forecasting_loader = ArgoverseForecastingLoader('../../deep_prediction/data/val/data/') #simply change to your local path of the data"
   ]
  },
  {
   "cell_type": "code",
   "execution_count": null,
   "metadata": {},
   "outputs": [],
   "source": [
    "print(argoverse_forecasting_loader[0])\n",
    "viz_sequence(argoverse_forecasting_loader[0].seq_df, show=True)"
   ]
  },
  {
   "cell_type": "code",
   "execution_count": null,
   "metadata": {},
   "outputs": [],
   "source": []
  }
 ],
 "metadata": {
  "kernelspec": {
   "display_name": "Python 3",
   "language": "python",
   "name": "python3"
  },
  "language_info": {
   "codemirror_mode": {
    "name": "ipython",
    "version": 3
   },
   "file_extension": ".py",
   "mimetype": "text/x-python",
   "name": "python",
   "nbconvert_exporter": "python",
   "pygments_lexer": "ipython3",
   "version": "3.7.4"
  }
 },
 "nbformat": 4,
 "nbformat_minor": 4
}
