{
 "cells": [
  {
   "cell_type": "code",
   "execution_count": null,
   "metadata": {},
   "outputs": [],
   "source": [
    "import os\n",
    "import shutil\n",
    "import tempfile\n",
    "import time\n",
    "from typing import Any, Dict, List, Tuple, Union\n",
    "\n",
    "import argparse\n",
    "import joblib\n",
    "from joblib import Parallel, delayed\n",
    "import numpy as np\n",
    "import pickle as pkl\n",
    "from termcolor import cprint\n",
    "import torch\n",
    "import torch.nn as nn\n",
    "import torch.nn.functional as F\n",
    "\n",
    "from logger import Logger\n",
    "import utils.baseline_config as config\n",
    "import utils.baseline_utils as baseline_utils\n",
    "from utils.lstm_utils import ModelUtils, LSTMDataset\n",
    "\n",
    "# from data import Argoverse_Data\n",
    "\n",
    "import importlib \n",
    "moduleName = input(data.Argoverse_Data) \n",
    "importlib.import_module(moduleName)"
   ]
  },
  {
   "cell_type": "code",
   "execution_count": 30,
   "metadata": {},
   "outputs": [
    {
     "ename": "AttributeError",
     "evalue": "module 'data' has no attribute 'Argoverse_Data'",
     "output_type": "error",
     "traceback": [
      "\u001b[0;31m---------------------------------------------------------------------------\u001b[0m",
      "\u001b[0;31mAttributeError\u001b[0m                            Traceback (most recent call last)",
      "\u001b[0;32m<ipython-input-30-2983ee791667>\u001b[0m in \u001b[0;36m<module>\u001b[0;34m\u001b[0m\n\u001b[0;32m----> 1\u001b[0;31m \u001b[0margoverse_train\u001b[0m\u001b[0;34m=\u001b[0m\u001b[0mdata\u001b[0m\u001b[0;34m.\u001b[0m\u001b[0mArgoverse_Data\u001b[0m\u001b[0;34m(\u001b[0m\u001b[0;34m'data/train/data/'\u001b[0m\u001b[0;34m,\u001b[0m\u001b[0msocial\u001b[0m\u001b[0;34m=\u001b[0m\u001b[0margs\u001b[0m\u001b[0;34m.\u001b[0m\u001b[0msocial\u001b[0m\u001b[0;34m)\u001b[0m\u001b[0;34m\u001b[0m\u001b[0;34m\u001b[0m\u001b[0m\n\u001b[0m",
      "\u001b[0;31mAttributeError\u001b[0m: module 'data' has no attribute 'Argoverse_Data'"
     ]
    }
   ],
   "source": [
    "argoverse_train=data.Argoverse_Data('data/train/data/',social=args.social)"
   ]
  },
  {
   "cell_type": "code",
   "execution_count": 27,
   "metadata": {},
   "outputs": [
    {
     "name": "stderr",
     "output_type": "stream",
     "text": [
      "usage: ipykernel_launcher.py [-h] [--test_batch_size TEST_BATCH_SIZE]\n",
      "                             [--model_path MODEL_PATH] [--obs_len OBS_LEN]\n",
      "                             [--pred_len PRED_LEN] [--normalize] [--use_delta]\n",
      "                             [--train_features TRAIN_FEATURES]\n",
      "                             [--val_features VAL_FEATURES]\n",
      "                             [--test_features TEST_FEATURES]\n",
      "                             [--joblib_batch_size JOBLIB_BATCH_SIZE]\n",
      "                             [--use_map] [--use_social] [--test]\n",
      "                             [--train_batch_size TRAIN_BATCH_SIZE]\n",
      "                             [--val_batch_size VAL_BATCH_SIZE]\n",
      "                             [--end_epoch END_EPOCH] [--lr LR]\n",
      "                             [--traj_save_path TRAJ_SAVE_PATH]\n",
      "ipykernel_launcher.py: error: unrecognized arguments: -f /home/sapanostic12345/.local/share/jupyter/runtime/kernel-040dd7bf-26a5-4157-b371-f0600956319a.json\n"
     ]
    },
    {
     "ename": "SystemExit",
     "evalue": "2",
     "output_type": "error",
     "traceback": [
      "An exception has occurred, use %tb to see the full traceback.\n",
      "\u001b[0;31mSystemExit\u001b[0m\u001b[0;31m:\u001b[0m 2\n"
     ]
    }
   ],
   "source": [
    "parser = argparse.ArgumentParser()\n",
    "parser.add_argument(\"--test_batch_size\",\n",
    "                    type=int,\n",
    "                    default=512,\n",
    "                    help=\"Test batch size\")\n",
    "parser.add_argument(\"--model_path\",\n",
    "                    required=False,\n",
    "                    type=str,\n",
    "                    help=\"path to the saved model\")\n",
    "parser.add_argument(\"--obs_len\",\n",
    "                    default=20,\n",
    "                    type=int,\n",
    "                    help=\"Observed length of the trajectory\")\n",
    "parser.add_argument(\"--pred_len\",\n",
    "                    default=30,\n",
    "                    type=int,\n",
    "                    help=\"Prediction Horizon\")\n",
    "parser.add_argument(\n",
    "    \"--normalize\",\n",
    "    action=\"store_true\",\n",
    "    help=\"Normalize the trajectories if non-map baseline is used\",\n",
    ")\n",
    "parser.add_argument(\n",
    "    \"--use_delta\",\n",
    "    action=\"store_true\",\n",
    "    help=\"Train on the change in position, instead of absolute position\",\n",
    ")\n",
    "parser.add_argument(\n",
    "    \"--train_features\",\n",
    "    default=\"\",\n",
    "    type=str,\n",
    "    help=\"path to the file which has train features.\",\n",
    ")\n",
    "parser.add_argument(\n",
    "    \"--val_features\",\n",
    "    default=\"\",\n",
    "    type=str,\n",
    "    help=\"path to the file which has val features.\",\n",
    ")\n",
    "parser.add_argument(\n",
    "    \"--test_features\",\n",
    "    default=\"\",\n",
    "    type=str,\n",
    "    help=\"path to the file which has test features.\",\n",
    ")\n",
    "parser.add_argument(\n",
    "    \"--joblib_batch_size\",\n",
    "    default=100,\n",
    "    type=int,\n",
    "    help=\"Batch size for parallel computation\",\n",
    ")\n",
    "parser.add_argument(\"--use_map\",\n",
    "                    action=\"store_true\",\n",
    "                    help=\"Use the map based features\")\n",
    "parser.add_argument(\"--use_social\",\n",
    "                    action=\"store_true\",\n",
    "                    help=\"Use social features\")\n",
    "parser.add_argument(\"--test\",\n",
    "                    action=\"store_true\",\n",
    "                    help=\"If true, only run the inference\")\n",
    "parser.add_argument(\"--train_batch_size\",\n",
    "                    type=int,\n",
    "                    default=512,\n",
    "                    help=\"Training batch size\")\n",
    "parser.add_argument(\"--val_batch_size\",\n",
    "                    type=int,\n",
    "                    default=512,\n",
    "                    help=\"Val batch size\")\n",
    "parser.add_argument(\"--end_epoch\",\n",
    "                    type=int,\n",
    "                    default=5000,\n",
    "                    help=\"Last epoch\")\n",
    "parser.add_argument(\"--lr\",\n",
    "                    type=float,\n",
    "                    default=0.001,\n",
    "                    help=\"Learning rate\")\n",
    "parser.add_argument(\n",
    "    \"--traj_save_path\",\n",
    "    required=False,\n",
    "    type=str,\n",
    "    help=\n",
    "    \"path to the pickle file where forecasted trajectories will be saved.\",\n",
    ")\n",
    "\n",
    "args = parser.parse_args()"
   ]
  },
  {
   "cell_type": "code",
   "execution_count": 26,
   "metadata": {},
   "outputs": [
    {
     "ename": "NameError",
     "evalue": "name 'args' is not defined",
     "output_type": "error",
     "traceback": [
      "\u001b[0;31m---------------------------------------------------------------------------\u001b[0m",
      "\u001b[0;31mNameError\u001b[0m                                 Traceback (most recent call last)",
      "\u001b[0;32m<ipython-input-26-3943a776785d>\u001b[0m in \u001b[0;36m<module>\u001b[0;34m\u001b[0m\n\u001b[0;32m----> 1\u001b[0;31m \u001b[0mdata_dict\u001b[0m \u001b[0;34m=\u001b[0m \u001b[0mbaseline_utils\u001b[0m\u001b[0;34m.\u001b[0m\u001b[0mget_data\u001b[0m\u001b[0;34m(\u001b[0m\u001b[0margs\u001b[0m\u001b[0;34m,\u001b[0m \u001b[0mbaseline_key\u001b[0m\u001b[0;34m)\u001b[0m\u001b[0;34m\u001b[0m\u001b[0;34m\u001b[0m\u001b[0m\n\u001b[0m",
      "\u001b[0;31mNameError\u001b[0m: name 'args' is not defined"
     ]
    }
   ],
   "source": [
    "data_dict = baseline_utils.get_data(args, baseline_key)"
   ]
  },
  {
   "cell_type": "code",
   "execution_count": null,
   "metadata": {},
   "outputs": [],
   "source": [
    "argoverse_train=Argoverse_Data('data/train/data/',social=args.social)"
   ]
  }
 ],
 "metadata": {
  "kernelspec": {
   "display_name": "Python 3",
   "language": "python",
   "name": "python3"
  },
  "language_info": {
   "codemirror_mode": {
    "name": "ipython",
    "version": 3
   },
   "file_extension": ".py",
   "mimetype": "text/x-python",
   "name": "python",
   "nbconvert_exporter": "python",
   "pygments_lexer": "ipython3",
   "version": "3.7.4"
  }
 },
 "nbformat": 4,
 "nbformat_minor": 4
}
